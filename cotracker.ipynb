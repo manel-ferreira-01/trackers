{
 "cells": [
  {
   "cell_type": "code",
   "execution_count": 1,
   "metadata": {},
   "outputs": [],
   "source": [
    "import torch \n",
    "import numpy as np\n",
    "\n",
    "device = torch.device(\"cuda\" if torch.cuda.is_available() else \"cpu\")\n",
    "online_mode = False"
   ]
  },
  {
   "cell_type": "code",
   "execution_count": 2,
   "metadata": {},
   "outputs": [],
   "source": [
    "import mediapy\n",
    "\n",
    "# read a video into a tensor\n",
    "video = torch.tensor(mediapy.read_video(\"/home/manuelf/mast3r/images_in/apple.mp4\")).permute(0,3,1,2).unsqueeze(0).to(device).float()"
   ]
  },
  {
   "cell_type": "code",
   "execution_count": 3,
   "metadata": {},
   "outputs": [
    {
     "name": "stderr",
     "output_type": "stream",
     "text": [
      "Using cache found in /home/manuelf/.cache/torch/hub/facebookresearch_co-tracker_main\n"
     ]
    }
   ],
   "source": [
    "#cotracker inference\n",
    "grid_size = 10\n",
    "\n",
    "if online_mode:\n",
    "    cotracker_model = torch.hub.load(\"facebookresearch/co-tracker\", \"cotracker3_online\").to(device)\n",
    "\n",
    "    cotracker_model(video_chunk=video, is_first_step=True, grid_size=grid_size)  \n",
    "\n",
    "    for ind in range(0, video.shape[1] - cotracker_model.step, cotracker_model.step):\n",
    "        pred_tracks, pred_visibility = cotracker_model(\n",
    "            video_chunk=video[:, ind : ind + cotracker_model.step * 2]\n",
    "        )  # B T N 2,  B T N 1\n",
    "\n",
    "else:\n",
    "    cotracker_model = torch.hub.load(\"facebookresearch/co-tracker\", \"cotracker3_offline\").to(device)\n",
    "\n",
    "    pred_tracks, pred_visibility = cotracker_model(video, grid_size=grid_size) # B T N 2,  B T N 1"
   ]
  },
  {
   "cell_type": "code",
   "execution_count": null,
   "metadata": {},
   "outputs": [],
   "source": [
    "# save the data as mat-files to be read in matlab\n",
    "from scipy.io import savemat\n",
    "\n",
    "savemat(\"cotracker_tracks.mat\", {\n",
    "    \"tracks\": pred_tracks.cpu().numpy(),\n",
    "    \"visibility\": pred_visibility.cpu().numpy(),\n",
    "})\n"
   ]
  },
  {
   "cell_type": "code",
   "execution_count": 1,
   "metadata": {},
   "outputs": [
    {
     "ename": "ModuleNotFoundError",
     "evalue": "No module named 'cotracker.utils'; 'cotracker' is not a package",
     "output_type": "error",
     "traceback": [
      "\u001b[31m---------------------------------------------------------------------------\u001b[39m",
      "\u001b[31mModuleNotFoundError\u001b[39m                       Traceback (most recent call last)",
      "\u001b[36mCell\u001b[39m\u001b[36m \u001b[39m\u001b[32mIn[1]\u001b[39m\u001b[32m, line 1\u001b[39m\n\u001b[32m----> \u001b[39m\u001b[32m1\u001b[39m \u001b[38;5;28;01mfrom\u001b[39;00m\u001b[38;5;250m \u001b[39m\u001b[34;01mcotracker\u001b[39;00m\u001b[34;01m.\u001b[39;00m\u001b[34;01mutils\u001b[39;00m\u001b[34;01m.\u001b[39;00m\u001b[34;01mvisualizer\u001b[39;00m\u001b[38;5;250m \u001b[39m\u001b[38;5;28;01mimport\u001b[39;00m Visualizer\n\u001b[32m      3\u001b[39m vis = Visualizer(save_dir=\u001b[33m\"\u001b[39m\u001b[33m./saved_videos\u001b[39m\u001b[33m\"\u001b[39m, pad_value=\u001b[32m120\u001b[39m, linewidth=\u001b[32m3\u001b[39m)\n\u001b[32m      4\u001b[39m vis.visualize(video, pred_tracks, pred_visibility)\n",
      "\u001b[36mFile \u001b[39m\u001b[32m~/trackers/cotracker.py:6\u001b[39m\n\u001b[32m      4\u001b[39m \u001b[38;5;28;01mfrom\u001b[39;00m\u001b[38;5;250m \u001b[39m\u001b[34;01mscipy\u001b[39;00m\u001b[34;01m.\u001b[39;00m\u001b[34;01mio\u001b[39;00m\u001b[38;5;250m \u001b[39m\u001b[38;5;28;01mimport\u001b[39;00m savemat\n\u001b[32m      5\u001b[39m \u001b[38;5;28;01mimport\u001b[39;00m\u001b[38;5;250m \u001b[39m\u001b[34;01margparse\u001b[39;00m\n\u001b[32m----> \u001b[39m\u001b[32m6\u001b[39m \u001b[38;5;28;01mfrom\u001b[39;00m\u001b[38;5;250m \u001b[39m\u001b[34;01mcotracker\u001b[39;00m\u001b[34;01m.\u001b[39;00m\u001b[34;01mutils\u001b[39;00m\u001b[34;01m.\u001b[39;00m\u001b[34;01mvisualizer\u001b[39;00m\u001b[38;5;250m \u001b[39m\u001b[38;5;28;01mimport\u001b[39;00m Visualizer\n\u001b[32m      8\u001b[39m \u001b[38;5;28;01mdef\u001b[39;00m\u001b[38;5;250m \u001b[39m\u001b[34mmain\u001b[39m(args):\n\u001b[32m      9\u001b[39m     device = torch.device(args.device \u001b[38;5;28;01mif\u001b[39;00m torch.cuda.is_available() \u001b[38;5;129;01mor\u001b[39;00m args.device == \u001b[33m\"\u001b[39m\u001b[33mcpu\u001b[39m\u001b[33m\"\u001b[39m \u001b[38;5;28;01melse\u001b[39;00m \u001b[33m\"\u001b[39m\u001b[33mcpu\u001b[39m\u001b[33m\"\u001b[39m)\n",
      "\u001b[31mModuleNotFoundError\u001b[39m: No module named 'cotracker.utils'; 'cotracker' is not a package"
     ]
    }
   ],
   "source": [
    "from cotracker.utils.visualizer import Visualizer\n",
    "\n",
    "vis = Visualizer(save_dir=\"./saved_videos\", pad_value=120, linewidth=3)\n",
    "vis.visualize(video, pred_tracks, pred_visibility)"
   ]
  }
 ],
 "metadata": {
  "kernelspec": {
   "display_name": "trackers",
   "language": "python",
   "name": "python3"
  },
  "language_info": {
   "codemirror_mode": {
    "name": "ipython",
    "version": 3
   },
   "file_extension": ".py",
   "mimetype": "text/x-python",
   "name": "python",
   "nbconvert_exporter": "python",
   "pygments_lexer": "ipython3",
   "version": "3.11.11"
  }
 },
 "nbformat": 4,
 "nbformat_minor": 2
}
